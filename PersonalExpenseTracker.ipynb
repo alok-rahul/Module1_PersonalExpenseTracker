{
 "cells": [
  {
   "cell_type": "markdown",
   "id": "61d6c7a4-3fca-4712-973b-bf50cce5ecb1",
   "metadata": {},
   "source": [
    "# Course-End Project Solution\n",
    "\n",
    "## Personal Expense Tracker"
   ]
  },
  {
   "cell_type": "markdown",
   "id": "ab34d114-9805-422b-a15e-3a5a92b3c18f",
   "metadata": {},
   "source": [
    "### Problem Statement:\n",
    "Individuals need to track and manage their expenses effectively. You are tasked with building a Personal Expense Tracker that allows users to log daily expenses, categorize them, and track spending against a set monthly budget. The tracker should also have the ability to save and load expenses from a file for future reference."
   ]
  },
  {
   "cell_type": "markdown",
   "id": "1e9f1616-28fb-4bb7-bd70-76d6d2f90aa9",
   "metadata": {},
   "source": [
    "### Steps to Perform:\n",
    "\n",
    "1. Add an Expenses:\n",
    "- Design a function that allows users to add new expenses by entering the date, category (For example, Food, Travel), amount, and a brief description. These values are then stored in a list of dictionaries, where each dictionary represents one expense."
   ]
  },
  {
   "cell_type": "code",
   "execution_count": 8,
   "id": "6f8bcd41-1f21-4951-b4b2-e2b03d47a820",
   "metadata": {},
   "outputs": [],
   "source": [
    "import csv\n",
    "\n",
    "# Function to make sure expense is added\n",
    "def expense_added(expenses):\n",
    "\n",
    "    date = input(\"Enter the date (YYYY-MM-DD): \")\n",
    "    category = input(\"Enter the category (e.g., Food, Travel): \")\n",
    "    amount = float(input(\"Enter the amount: \"))\n",
    "    description = input(\"Enter a brief description: \")\n",
    "    expenses.append({\n",
    "        \"date\": date,\n",
    "        \"category\": category,\n",
    "        \"amount\": amount,\n",
    "        \"description\": description\n",
    "    })\n",
    "    print(\"Expense added successfully.\")"
   ]
  },
  {
   "cell_type": "code",
   "execution_count": null,
   "id": "d176d1c1-0bbf-4144-8c7a-3573b44b9437",
   "metadata": {},
   "outputs": [],
   "source": []
  }
 ],
 "metadata": {
  "kernelspec": {
   "display_name": "Python 3 (ipykernel)",
   "language": "python",
   "name": "python3"
  },
  "language_info": {
   "codemirror_mode": {
    "name": "ipython",
    "version": 3
   },
   "file_extension": ".py",
   "mimetype": "text/x-python",
   "name": "python",
   "nbconvert_exporter": "python",
   "pygments_lexer": "ipython3",
   "version": "3.12.4"
  }
 },
 "nbformat": 4,
 "nbformat_minor": 5
}
