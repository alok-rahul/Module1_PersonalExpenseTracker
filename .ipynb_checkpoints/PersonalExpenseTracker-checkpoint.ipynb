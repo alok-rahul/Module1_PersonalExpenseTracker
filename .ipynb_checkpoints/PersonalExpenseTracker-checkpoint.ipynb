{
 "cells": [
  {
   "cell_type": "markdown",
   "id": "61d6c7a4-3fca-4712-973b-bf50cce5ecb1",
   "metadata": {},
   "source": [
    "# Course-End Project Solution\n",
    "\n",
    "## Personal Expense Tracker"
   ]
  },
  {
   "cell_type": "markdown",
   "id": "ab34d114-9805-422b-a15e-3a5a92b3c18f",
   "metadata": {},
   "source": [
    "### Problem Statement:\n",
    "Individuals need to track and manage their expenses effectively. You are tasked with building a Personal Expense Tracker that allows users to log daily expenses, categorize them, and track spending against a set monthly budget. The tracker should also have the ability to save and load expenses from a file for future reference."
   ]
  },
  {
   "cell_type": "markdown",
   "id": "1e9f1616-28fb-4bb7-bd70-76d6d2f90aa9",
   "metadata": {},
   "source": [
    "### Steps to Perform:\n",
    "\n",
    "1. Add an Expenses:\n",
    "- Design a function that allows users to add new expenses by entering the date, category (For example, Food, Travel), amount, and a brief description. These values are then stored in a list of dictionaries, where each dictionary represents one expense."
   ]
  },
  {
   "cell_type": "code",
   "execution_count": 8,
   "id": "6f8bcd41-1f21-4951-b4b2-e2b03d47a820",
   "metadata": {},
   "outputs": [],
   "source": [
    "import csv\n",
    "\n",
    "# Function to make sure expense is added\n",
    "def expense_added(expenses):\n",
    "\n",
    "    date = input(\"Enter the date (YYYY-MM-DD): \")\n",
    "    category = input(\"Enter the category (e.g., Food, Travel): \")\n",
    "    amount = float(input(\"Enter the amount: \"))\n",
    "    description = input(\"Enter a brief description: \")\n",
    "    expenses.append({\n",
    "        \"date\": date,\n",
    "        \"category\": category,\n",
    "        \"amount\": amount,\n",
    "        \"description\": description\n",
    "    })\n",
    "    print(\"Expense added successfully.\")"
   ]
  },
  {
   "cell_type": "markdown",
   "id": "028bcde3-21a0-472d-b4aa-6cd7cf9c4013",
   "metadata": {},
   "source": [
    "2. View Expenses\n",
    "- Implement a function that displays all recorded expenses. The function ensures that all required fields (date, category, amount, description) are present before displaying the expense. If no expenses are recorded, it informs the user."
   ]
  },
  {
   "cell_type": "code",
   "execution_count": 11,
   "id": "4742f635-252b-442e-8ed7-7c0dfbea3ba7",
   "metadata": {},
   "outputs": [],
   "source": [
    "# Function to view all expenses\n",
    "def view_expenses(expenses):\n",
    "    \"\"\"Function to display all expenses.\"\"\"\n",
    "    if not expenses:\n",
    "        print(\"No expenses recorded.\")\n",
    "    else:\n",
    "        for expense in expenses:\n",
    "            # Check if the keys exist before accessing them\n",
    "            if all(key in expense for key in ['date', 'category', 'amount', 'description']):\n",
    "                print(f\"Date: {expense['date']}, Category: {expense['category']}, Amount: {expense['amount']}, Description: {expense['description']}\")\n",
    "            else:\n",
    "                print(f\"Invalid expense record: {expense}\")\n"
   ]
  },
  {
   "cell_type": "markdown",
   "id": "6859146f-d16a-4ac9-a311-90202925e59d",
   "metadata": {},
   "source": [
    "3. Set and Track Budget\n",
    "- Allow the user to set a monthly budget, and then calculate total expenses to compare against the budget. The __track_budget__ function alerts the user if the total expenses exceed the budget, and informs the remaining budget if still within the limit.\n",
    "\n"
   ]
  },
  {
   "cell_type": "code",
   "execution_count": 14,
   "id": "1f603716-5206-4299-a689-e27995fb463b",
   "metadata": {},
   "outputs": [],
   "source": [
    "# Function to set and track a monthly budget\n",
    "def budget_set():\n",
    "    \"\"\"Function to set a monthly budget.\"\"\"\n",
    "    budget = float(input(\"Enter your monthly budget: \"))\n",
    "    return budget"
   ]
  },
  {
   "cell_type": "code",
   "execution_count": 16,
   "id": "407ea621-7c82-4df7-991a-f275ceb0a794",
   "metadata": {},
   "outputs": [],
   "source": [
    "# Function to track expenses by category and check against the budget\n",
    "def track_budget(expenses, budget):\n",
    "    \"\"\"Function to track expenses and alert if budget is exceeded.\"\"\"\n",
    "    total_expenses = sum(expense['amount'] for expense in expenses)\n",
    "    print(f\"Total expenses: {total_expenses}\")\n",
    "    if total_expenses > budget:\n",
    "        print(\"Warning: You have exceeded your budget!\")\n",
    "    else:\n",
    "        print(f\"You are within your budget. You have {budget - total_expenses} remaining.\")"
   ]
  },
  {
   "cell_type": "markdown",
   "id": "02bd021f-8d51-4cd8-838e-2416d1199baf",
   "metadata": {},
   "source": [
    "4. Save and Load Expenses\n",
    "- Save: Save all the recorded expenses into a CSV file using the save_expenses function. The file includes the date, category, amount, and description of each expense.\n",
    "- Load: Load expenses from the CSV file when the program starts using the load_expenses function. If no file is found, the user is informed that no prior data exists."
   ]
  },
  {
   "cell_type": "code",
   "execution_count": 21,
   "id": "6e2bc09c-5d95-4b66-91ae-a5b7ff61d585",
   "metadata": {},
   "outputs": [],
   "source": [
    "# Function to save expenses to a file\n",
    "def save_expenses(expenses, filename='expenses.csv'):\n",
    "    \"\"\"Function to save expenses to a file.\"\"\"\n",
    "    with open(filename, 'w', newline='') as file:\n",
    "        writer = csv.writer(file)\n",
    "        writer.writerow([\"Date\", \"Category\", \"Amount\", \"Description\"])\n",
    "        for expense in expenses:\n",
    "            writer.writerow([expense['date'], expense['category'], expense['amount'], expense['description']])\n",
    "    print(\"Expenses saved successfully.\")"
   ]
  },
  {
   "cell_type": "code",
   "execution_count": 23,
   "id": "63bbf080-1257-4aeb-b4fc-51df8382ebae",
   "metadata": {},
   "outputs": [],
   "source": [
    "# Function to load expenses from a file\n",
    "def load_expenses(filename='expenses.csv'):\n",
    "    \"\"\"Function to load expenses from a file.\"\"\"\n",
    "    expenses = []\n",
    "    try:\n",
    "        with open(filename, 'r') as file:\n",
    "            reader = csv.DictReader(file)\n",
    "            for row in reader:\n",
    "                # Check if all required keys exist before accessing them\n",
    "                if all(key in row for key in ['Date', 'Category', 'Amount', 'Description']):\n",
    "                    # Convert amount to float\n",
    "                    row['amount'] = float(row['amount'])\n",
    "                    # Rename keys to match the format used in other functions\n",
    "                    expense = {\n",
    "                        'date': row['Date'],\n",
    "                        'category': row['Category'],\n",
    "                        'amount': row['amount'],\n",
    "                        'description': row['Description']\n",
    "                    }\n",
    "                    expenses.append(expense)\n",
    "                else:\n",
    "                    print(f\"Skipping invalid expense record: {row}\")\n",
    "    except FileNotFoundError:\n",
    "        print(\"No existing expenses found. Starting fresh.\")\n",
    "    return expenses"
   ]
  },
  {
   "cell_type": "markdown",
   "id": "91a4a455-be5a-45cf-976b-d5ef1808c71b",
   "metadata": {},
   "source": [
    "5. Create an Interactive Menu\n",
    "- The interactive menu allows users to navigate through the options of adding an expense, viewing expenses, tracking their budget, saving expenses, or exiting the program. When exiting, it ensures that any newly added expenses are saved to the file."
   ]
  },
  {
   "cell_type": "code",
   "execution_count": 26,
   "id": "724e06c1-89fd-4fb8-9b83-ab28a7e24fec",
   "metadata": {},
   "outputs": [
    {
     "name": "stdout",
     "output_type": "stream",
     "text": [
      "No existing expenses found. Starting fresh.\n"
     ]
    },
    {
     "name": "stdin",
     "output_type": "stream",
     "text": [
      "Enter your monthly budget:  200\n"
     ]
    },
    {
     "name": "stdout",
     "output_type": "stream",
     "text": [
      "\n",
      "Personal Expense Tracker\n",
      "1. Add Expense\n",
      "2. View Expenses\n",
      "3. Track Budget\n",
      "4. Save Expenses\n",
      "5. Exit\n"
     ]
    },
    {
     "name": "stdin",
     "output_type": "stream",
     "text": [
      "Enter your choice:  1\n",
      "Enter the date (YYYY-MM-DD):  2024-11-21\n",
      "Enter the category (e.g., Food, Travel):  Food\n",
      "Enter the amount:  21\n",
      "Enter a brief description:  Outing\n"
     ]
    },
    {
     "name": "stdout",
     "output_type": "stream",
     "text": [
      "Expense added successfully.\n",
      "\n",
      "Personal Expense Tracker\n",
      "1. Add Expense\n",
      "2. View Expenses\n",
      "3. Track Budget\n",
      "4. Save Expenses\n",
      "5. Exit\n"
     ]
    },
    {
     "name": "stdin",
     "output_type": "stream",
     "text": [
      "Enter your choice:  2\n"
     ]
    },
    {
     "name": "stdout",
     "output_type": "stream",
     "text": [
      "Date: 2024-11-21, Category: Food, Amount: 21.0, Description: Outing\n",
      "\n",
      "Personal Expense Tracker\n",
      "1. Add Expense\n",
      "2. View Expenses\n",
      "3. Track Budget\n",
      "4. Save Expenses\n",
      "5. Exit\n"
     ]
    },
    {
     "name": "stdin",
     "output_type": "stream",
     "text": [
      "Enter your choice:  3\n"
     ]
    },
    {
     "name": "stdout",
     "output_type": "stream",
     "text": [
      "Total expenses: 21.0\n",
      "You are within your budget. You have 179.0 remaining.\n",
      "\n",
      "Personal Expense Tracker\n",
      "1. Add Expense\n",
      "2. View Expenses\n",
      "3. Track Budget\n",
      "4. Save Expenses\n",
      "5. Exit\n"
     ]
    },
    {
     "name": "stdin",
     "output_type": "stream",
     "text": [
      "Enter your choice:  4\n"
     ]
    },
    {
     "name": "stdout",
     "output_type": "stream",
     "text": [
      "Expenses saved successfully.\n",
      "\n",
      "Personal Expense Tracker\n",
      "1. Add Expense\n",
      "2. View Expenses\n",
      "3. Track Budget\n",
      "4. Save Expenses\n",
      "5. Exit\n"
     ]
    },
    {
     "name": "stdin",
     "output_type": "stream",
     "text": [
      "Enter your choice:  5\n"
     ]
    },
    {
     "name": "stdout",
     "output_type": "stream",
     "text": [
      "Expenses saved successfully.\n",
      "Exiting...\n"
     ]
    }
   ],
   "source": [
    "# Main interactive menu\n",
    "def main():\n",
    "    expenses = load_expenses()\n",
    "    budget = budget_set()\n",
    "    while True:\n",
    "        print(\"\\nPersonal Expense Tracker\")\n",
    "        print(\"1. Add Expense\")\n",
    "        print(\"2. View Expenses\")\n",
    "        print(\"3. Track Budget\")\n",
    "        print(\"4. Save Expenses\")\n",
    "        print(\"5. Exit\")\n",
    "        choice = input(\"Enter your choice: \")\n",
    "\n",
    "        if choice == '1':\n",
    "            expense_added(expenses)\n",
    "        elif choice == '2':\n",
    "            view_expenses(expenses)\n",
    "        elif choice == '3':\n",
    "            track_budget(expenses, budget)\n",
    "        elif choice == '4':\n",
    "            save_expenses(expenses)\n",
    "        elif choice == '5':\n",
    "            save_expenses(expenses)\n",
    "            print(\"Exiting...\")\n",
    "            break\n",
    "        else:\n",
    "            print(\"Invalid choice, please select a valid option.\")\n",
    "\n",
    "# Run the main function\n",
    "if __name__ == \"__main__\":\n",
    "    main()"
   ]
  },
  {
   "cell_type": "code",
   "execution_count": null,
   "id": "92eb563c-bf0f-4b5b-9a22-ca28376d760c",
   "metadata": {},
   "outputs": [],
   "source": []
  }
 ],
 "metadata": {
  "kernelspec": {
   "display_name": "Python 3 (ipykernel)",
   "language": "python",
   "name": "python3"
  },
  "language_info": {
   "codemirror_mode": {
    "name": "ipython",
    "version": 3
   },
   "file_extension": ".py",
   "mimetype": "text/x-python",
   "name": "python",
   "nbconvert_exporter": "python",
   "pygments_lexer": "ipython3",
   "version": "3.12.4"
  }
 },
 "nbformat": 4,
 "nbformat_minor": 5
}
